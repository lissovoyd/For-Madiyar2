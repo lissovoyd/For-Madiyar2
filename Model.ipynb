{
 "cells": [
  {
   "cell_type": "code",
   "execution_count": 5,
   "id": "ba475839-6388-4142-b6f2-0731a0aac4a4",
   "metadata": {
    "scrolled": true
   },
   "outputs": [
    {
     "name": "stdout",
     "output_type": "stream",
     "text": [
      "🔄 Loading data...\n",
      "✅ Final training data shape: (771, 11)\n",
      "📈 Training XGBRegressor...\n",
      "💾 Model saved as xgb_model.pkl\n"
     ]
    }
   ],
   "source": [
    "import pandas as pd\n",
    "import xgboost as xgb\n",
    "import pickle\n",
    "\n",
    "print(\"🔄 Loading data...\")\n",
    "df = pd.read_csv(\"vacancy_features_modified.csv\")\n",
    "\n",
    "# Convert key columns to numeric\n",
    "numeric_cols = [ \"num_skills\", \"num_certificates\", \"experience_years\", \"salary_avg\"]\n",
    "for col in numeric_cols:\n",
    "    df[col] = pd.to_numeric(df[col], errors=\"coerce\")\n",
    "\n",
    "experience_mapping = {\n",
    "    \"noExperience\": 0,\n",
    "    \"between1And3\": 1,\n",
    "    \"between3And6\": 3,\n",
    "    \"moreThan6\": 6\n",
    "}\n",
    "df[\"experience_id\"] = df[\"experience_id\"].map(experience_mapping)\n",
    "\n",
    "\n",
    "# Drop rows with NaNs\n",
    "df.dropna(subset=numeric_cols, inplace=True)\n",
    "print(f\"✅ Final training data shape: {df.shape}\")\n",
    "\n",
    "if df.empty:\n",
    "    raise ValueError(\"🚨 ERROR: DataFrame is empty after preprocessing. Check your CSV!\")\n",
    "\n",
    "# Cap values to match form inputs\n",
    "df[\"experience_years\"] = df[\"experience_years\"].clip(upper=10)\n",
    "df[\"num_skills\"] = df[\"num_skills\"].clip(upper=5)\n",
    "df[\"num_certificates\"] = df[\"num_certificates\"].clip(upper=5)\n",
    "\n",
    "# Select features & target\n",
    "features = [\"experience_years\", \"num_skills\", \"num_certificates\", \"experience_id\"]\n",
    "target = \"salary_avg\"\n",
    "X = df[features]\n",
    "y = df[target]\n",
    "\n",
    "# Train the model\n",
    "print(\"📈 Training XGBRegressor...\")\n",
    "model = xgb.XGBRegressor(n_estimators=100, max_depth=4, random_state=42)\n",
    "model.fit(X, y)\n",
    "\n",
    "# Save the model\n",
    "with open(\"xgb_model.pkl\", \"wb\") as f:\n",
    "    pickle.dump(model, f)\n",
    "\n",
    "print(\"💾 Model saved as xgb_model.pkl\")\n"
   ]
  },
  {
   "cell_type": "code",
   "execution_count": null,
   "id": "77b9b474-833f-4db3-89f5-7ba0e5ac299f",
   "metadata": {},
   "outputs": [],
   "source": []
  }
 ],
 "metadata": {
  "kernelspec": {
   "display_name": "Python 3 (ipykernel)",
   "language": "python",
   "name": "python3"
  },
  "language_info": {
   "codemirror_mode": {
    "name": "ipython",
    "version": 3
   },
   "file_extension": ".py",
   "mimetype": "text/x-python",
   "name": "python",
   "nbconvert_exporter": "python",
   "pygments_lexer": "ipython3",
   "version": "3.10.16"
  }
 },
 "nbformat": 4,
 "nbformat_minor": 5
}
